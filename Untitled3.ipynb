{
  "nbformat": 4,
  "nbformat_minor": 0,
  "metadata": {
    "colab": {
      "name": "Untitled3.ipynb",
      "version": "0.3.2",
      "provenance": [],
      "collapsed_sections": []
    },
    "kernelspec": {
      "name": "python3",
      "display_name": "Python 3"
    },
    "accelerator": "GPU"
  },
  "cells": [
    {
      "cell_type": "markdown",
      "metadata": {
        "id": "view-in-github",
        "colab_type": "text"
      },
      "source": [
        "[View in Colaboratory](https://colab.research.google.com/github/GinYoshida/tips_with_google_colab/blob/master/Untitled3.ipynb)"
      ]
    },
    {
      "metadata": {
        "id": "-AjEr6gDC6A9",
        "colab_type": "code",
        "colab": {
          "base_uri": "https://localhost:8080/",
          "height": 33
        },
        "outputId": "cee3ce49-1dd0-4c01-c33f-7ccd69174627"
      },
      "cell_type": "code",
      "source": [
        "!pip install joblib"
      ],
      "execution_count": 53,
      "outputs": [
        {
          "output_type": "stream",
          "text": [
            "Requirement already satisfied: joblib in /usr/local/lib/python3.6/dist-packages (0.11)\r\n"
          ],
          "name": "stdout"
        }
      ]
    },
    {
      "metadata": {
        "id": "NXk6MKJgw8Xp",
        "colab_type": "code",
        "colab": {
          "base_uri": "https://localhost:8080/",
          "height": 9766
        },
        "outputId": "faae86b9-3572-45f1-a503-0a0323870d98"
      },
      "cell_type": "code",
      "source": [
        "!apt-get install nvidia-cuda-toolkit\n",
        "!pip3 install numba\n",
        "\n",
        "import os\n",
        "os.environ['NUMBAPRO_LIBDEVICE'] = \"/usr/lib/nvidia-cuda-toolkit/libdevice\"\n",
        "os.environ['NUMBAPRO_NVVM'] = \"/usr/lib/x86_64-linux-gnu/libnvvm.so\"\n",
        "\n",
        "from numba import cuda\n",
        "import numpy as np\n",
        "import time\n",
        "\n",
        "@cuda.jit\n",
        "def hello(data):\n",
        "    data[cuda.blockIdx.x, cuda.threadIdx.x] = cuda.blockIdx.x\n",
        "\n",
        "numBlocks = 5\n",
        "threadsPerBlock = 10\n",
        "\n",
        "data = np.ones((numBlocks, threadsPerBlock), dtype=np.uint8)\n",
        "\n",
        "hello[numBlocks, threadsPerBlock](data)\n",
        "\n",
        "print(data)"
      ],
      "execution_count": 0,
      "outputs": [
        {
          "output_type": "stream",
          "text": [
            "Reading package lists... Done\n",
            "Building dependency tree       \n",
            "Reading state information... Done\n",
            "The following additional packages will be installed:\n",
            "  accountsservice acpid activity-log-manager adwaita-icon-theme apg aspell\n",
            "  aspell-en at-spi2-core avahi-daemon avahi-utils bbswitch-dkms bind9-host\n",
            "  binfmt-support bluez bluez-obexd bsdmainutils ca-certificates-java\n",
            "  cheese-common clang-3.8 cracklib-runtime crda cups-pk-helper dbus\n",
            "  dbus-user-session dbus-x11 dconf-cli dconf-gsettings-backend dconf-service\n",
            "  default-jre default-jre-headless desktop-file-utils dictionaries-common\n",
            "  distro-info-data dkms dmsetup dns-root-data dnsmasq-base dosfstools eject\n",
            "  emacsen-common enchant evolution-data-server evolution-data-server-common\n",
            "  fakeroot file fontconfig fonts-dejavu-extra fuse gcr gdisk geoclue\n",
            "  geoclue-ubuntu-geoip geoip-database gettext-base gir1.2-atk-1.0\n",
            "  gir1.2-freedesktop gir1.2-gdkpixbuf-2.0 gir1.2-glib-2.0 gir1.2-gtk-3.0\n",
            "  gir1.2-ibus-1.0 gir1.2-notify-0.7 gir1.2-packagekitglib-1.0 gir1.2-pango-1.0\n",
            "  gir1.2-polkit-1.0 gir1.2-secret-1 gkbd-capplet glib-networking\n",
            "  glib-networking-common glib-networking-services gnome-bluetooth\n",
            "  gnome-control-center-faces gnome-desktop3-data gnome-keyring gnome-menus\n",
            "  gnome-power-manager gnome-screensaver gnome-session-bin\n",
            "  gnome-settings-daemon-schemas groff-base gsettings-desktop-schemas\n",
            "  gsettings-ubuntu-schemas gstreamer1.0-clutter-3.0 gstreamer1.0-plugins-base\n",
            "  gstreamer1.0-plugins-good gstreamer1.0-x gtk-update-icon-cache gvfs\n",
            "  gvfs-backends gvfs-common gvfs-daemons gvfs-libs hicolor-icon-theme\n",
            "  humanity-icon-theme hunspell-en-us ibus ibus-gtk ibus-gtk3 im-config\n",
            "  indicator-applet indicator-application indicator-bluetooth indicator-common\n",
            "  indicator-datetime indicator-keyboard indicator-messages indicator-power\n",
            "  indicator-session indicator-sound ippusbxd iproute2 iptables iputils-arping\n",
            "  isc-dhcp-client isc-dhcp-common iso-codes iw java-common\n",
            "  keyboard-configuration kmod lib32gcc1 libaa1 libaccounts-glib0\n",
            "  libaccountsservice0 libapparmor1 libappindicator3-1 libappstream4\n",
            "  libarchive13 libasound2 libasound2-data libasound2-plugins libaspell15\n",
            "  libasyncns0 libatasmart4 libatk-bridge2.0-0 libatk-wrapper-java\n",
            "  libatk-wrapper-java-jni libatk1.0-0 libatk1.0-data libatm1 libatspi2.0-0\n",
            "  libavahi-client3 libavahi-common-data libavahi-common3 libavahi-core7\n",
            "  libavahi-glib1 libavc1394-0 libbind9-140 libbluetooth3\n",
            "  libboost-filesystem1.62.0 libboost-system1.62.0 libboost-thread1.62.0\n",
            "  libc6-i386 libcaca0 libcairo-gobject2 libcairo2 libcamel-1.2-60\n",
            "  libcanberra-gtk3-0 libcanberra-gtk3-module libcanberra-pulse libcanberra0\n",
            "  libcap2 libcap2-bin libcapnp-0.5.3 libcdio-cdda1 libcdio-paranoia1 libcdio13\n",
            "  libcdparanoia0 libcheese-gtk25 libcheese8 libclang-common-3.8-dev\n",
            "  libclang1-3.8 libclutter-1.0-0 libclutter-1.0-common libclutter-gst-3.0-0\n",
            "  libclutter-gtk-1.0-0 libcogl-common libcogl-pango20 libcogl-path20 libcogl20\n",
            "  libcolord2 libcrack2 libcroco3 libcryptsetup4 libcuda1-384 libcuinj64-8.0\n",
            "  libcups2 libcusparse8.0 libdaemon0 libdatrie1 libdbus-1-3 libdbus-glib-1-2\n",
            "  libdbusmenu-glib4 libdbusmenu-gtk3-4 libdconf1 libdee-1.0-4\n",
            "  libdevmapper1.02.1 libdns-export162 libdns162 libdrm-amdgpu1 libdrm-common\n",
            "  libdrm-dev libdrm-intel1 libdrm-nouveau2 libdrm-radeon1 libdrm2 libdv4\n",
            "  libebackend-1.2-10 libebook-1.2-19 libebook-contacts-1.2-2 libecal-1.2-19\n",
            "  libedata-book-1.2-25 libedata-cal-1.2-28 libedataserver-1.2-22 libegl1-mesa\n",
            "  libelf1 libenchant1c2a libepoxy0 libevdev2 libexif12 libfakeroot\n",
            "  libfcitx-config4 libfcitx-gclient0 libfcitx-utils0 libffi-dev libflac8\n",
            "  libfontenc1 libfribidi0 libfuse2 libgail-common libgail18 libgbm1 libgc1c2\n",
            "  libgck-1-0 libgcr-3-common libgcr-base-3-1 libgcr-ui-3-1 libgd3\n",
            "  libgdata-common libgdata22 libgdk-pixbuf2.0-0 libgdk-pixbuf2.0-bin\n",
            "  libgdk-pixbuf2.0-common libgee-0.8-2 libgeoclue0 libgeocode-glib0 libgeoip1\n",
            "  libgeonames-common libgeonames0 libgif7 libgirepository-1.0-1\n",
            "  libgl1-mesa-dev libgl1-mesa-dri libgl1-mesa-glx libglapi-mesa libgles2-mesa\n",
            "  libglib2.0-bin libglib2.0-data libgnome-bluetooth13 libgnome-desktop-3-12\n",
            "  libgnome-menu-3-0 libgnomekbd-common libgnomekbd8 libgoa-1.0-0b\n",
            "  libgoa-1.0-common libgphoto2-6 libgphoto2-l10n libgphoto2-port12 libgpm2\n",
            "  libgraphite2-3 libgstreamer-plugins-base1.0-0 libgstreamer-plugins-good1.0-0\n",
            "  libgstreamer1.0-0 libgtk-3-0 libgtk-3-bin libgtk-3-common libgtk2.0-0\n",
            "  libgtk2.0-bin libgtk2.0-common libgtop-2.0-11 libgtop2-common libgudev-1.0-0\n",
            "  libgweather-3-6 libgweather-common libharfbuzz-icu0 libharfbuzz0b\n",
            "  libhunspell-1.6-0 libhyphen0 libibus-1.0-5 libical2 libido3-0.1-0\n",
            "  libiec61883-0 libimobiledevice6 libindicator3-7 libinput-bin libinput10\n",
            "  libip4tc0 libip6tc0 libiptc0 libisc-export160 libisc160 libisccc140\n",
            "  libisccfg140 libjack-jackd2-0 libjansson4 libjavascriptcoregtk-4.0-18\n",
            "  libjbig0 libjson-c3 libjson-glib-1.0-0 libjson-glib-1.0-common libjsoncpp1\n",
            "  libkmod2 liblcms2-2 libldb1 liblightdm-gobject-1-0 libllvm3.8 libllvm5.0\n",
            "  liblocale-gettext-perl libltdl7 liblwres141 liblzo2-2 libmagic-mgc libmagic1\n",
            "  libmbim-glib4 libmbim-proxy libmessaging-menu0 libmirclient9 libmircommon7\n",
            "  libmircore1 libmirprotobuf3 libmm-glib0 libmnl0 libmtdev1 libmtp-common\n",
            "  libmtp-runtime libmtp9 libndp0 libnetfilter-conntrack3 libnewt0.52\n",
            "  libnfnetlink0 libnl-3-200 libnl-genl-3-200 libnm-glib4 libnm-gtk0\n",
            "  libnm-util2 libnm0 libnma0 libnotify4 libnppc8.0 libnppi8.0 libnppial8.0\n",
            "  libnppicc8.0 libnppicom8.0 libnppidei8.0 libnppif8.0 libnppig8.0 libnppim8.0\n",
            "  libnppist8.0 libnppisu8.0 libnppitc8.0 libnpps8.0 libnspr4 libnss-mdns\n",
            "  libnss3 libntfs-3g872 libnvblas8.0 libnvgraph8.0 libnvrtc8.0 libnvtoolsext1\n",
            "  libnvvm3 liboauth0 libobjc-7-dev libobjc4 libogg0 libopus0 liborc-0.4-0\n",
            "  libp11-kit-gnome-keyring libpackagekit-glib2-18 libpam-cap\n",
            "  libpam-gnome-keyring libpam-systemd libpanel-applet3 libpango-1.0-0\n",
            "  libpangocairo-1.0-0 libpangoft2-1.0-0 libpangoxft-1.0-0 libparted2\n",
            "  libpcap0.8 libpci3 libpciaccess0 libpcsclite1 libphonenumber7 libpipeline1\n",
            "  libpixman-1-0 libplist3 libplymouth4 libpolkit-agent-1-0\n",
            "  libpolkit-backend-1-0 libpolkit-gobject-1-0 libprotobuf-lite10 libprotobuf10\n",
            "  libproxy1v5 libpulse-mainloop-glib0 libpulse0 libpulsedsp\n",
            "  libpwquality-common libpwquality1 libqmi-glib5 libqmi-proxy libraw1394-11\n",
            "  librest-0.7-0 librsvg2-2 librsvg2-common libsamplerate0 libseccomp2\n",
            "  libsecret-1-0 libsecret-common libsensors4 libshout3 libslang2 libsmbclient\n",
            "  libsndfile1 libsoup-gnome2.4-1 libsoup2.4-1 libspeex1 libspeexdsp1\n",
            "  libstemmer0d libtag1v5 libtag1v5-vanilla libtalloc2 libtdb1 libtevent0\n",
            "  libtext-iconv-perl libthai-data libthai0 libtheora0 libthrust-dev libtiff5\n",
            "  libtimezonemap-data libtimezonemap1 libtinfo-dev libtxc-dxtn-s2tc\n",
            "  libudisks2-0 libunity-control-center1 libunity-settings-daemon1\n",
            "  libupower-glib3 liburl-dispatcher1 libusb-1.0-0 libusbmuxd4 libv4l-0\n",
            "  libv4lconvert0 libvdpau-dev libvdpau1 libvisual-0.4-0 libvorbis0a\n",
            "  libvorbisenc2 libvorbisfile3 libvpx4 libwacom-bin libwacom-common libwacom2\n",
            "  libwavpack1 libwayland-client0 libwayland-cursor0 libwayland-egl1-mesa\n",
            "  libwayland-server0 libwbclient0 libwebkit2gtk-4.0-37 libwebp6 libwebpdemux2\n",
            "  libwebrtc-audio-processing1 libwhoopsie-preferences0 libwhoopsie0 libwrap0\n",
            "  libx11-xcb-dev libx11-xcb1 libxapian30 libxatracker2 libxaw7 libxcb-dri2-0\n",
            "  libxcb-dri2-0-dev libxcb-dri3-0 libxcb-dri3-dev libxcb-glx0 libxcb-glx0-dev\n",
            "  libxcb-present-dev libxcb-present0 libxcb-randr0 libxcb-randr0-dev\n",
            "  libxcb-render0 libxcb-render0-dev libxcb-shape0 libxcb-shape0-dev\n",
            "  libxcb-shm0 libxcb-sync-dev libxcb-sync1 libxcb-util1 libxcb-xfixes0\n",
            "  libxcb-xfixes0-dev libxcomposite1 libxcursor1 libxdamage-dev libxdamage1\n",
            "  libxext-dev libxfixes-dev libxfixes3 libxfont1 libxfont2 libxi6 libxinerama1\n",
            "  libxkbcommon0 libxkbfile1 libxklavier16 libxmu6 libxmuu1 libxnvctrl0 libxpm4\n",
            "  libxrandr2 libxshmfence-dev libxshmfence1 libxslt1.1 libxt6 libxtables12\n",
            "  libxtst6 libxv1 libxvmc1 libxxf86dga1 libxxf86vm-dev libxxf86vm1 libyaml-0-2\n",
            "  libyelp0 libzeitgeist-2.0-0 lightdm linux-headers-4.13.0-41\n",
            "  linux-headers-4.13.0-41-generic linux-headers-generic llvm-3.8 llvm-3.8-dev\n",
            "  llvm-3.8-runtime lsb-release man-db mesa-common-dev mesa-vdpau-drivers\n",
            "  mobile-broadband-provider-info modemmanager mousetweaks nautilus-data\n",
            "  network-manager network-manager-gnome network-manager-pptp\n",
            "  notification-daemon ntfs-3g nvidia-384 nvidia-cuda-dev nvidia-cuda-doc\n",
            "  nvidia-cuda-gdb nvidia-opencl-dev nvidia-opencl-icd-384 nvidia-prime\n",
            "  nvidia-profiler nvidia-settings nvidia-visual-profiler ocl-icd-libopencl1\n",
            "  opencl-c-headers opencl-clhpp-headers opencl-headers openjdk-8-jre\n",
            "  openjdk-8-jre-headless p11-kit p11-kit-modules packagekit packagekit-tools\n",
            "  parted pciutils pinentry-gnome3 plymouth plymouth-theme-ubuntu-text\n",
            "  policykit-1 policykit-1-gnome ppp pptp-linux psmisc pulseaudio\n",
            "  pulseaudio-utils python-apt-common python-talloc python3-apt python3-cairo\n",
            "  python3-certifi python3-chardet python3-cups python3-cupshelpers\n",
            "  python3-dbus python3-gi python3-idna python3-pkg-resources python3-requests\n",
            "  python3-six python3-urllib3 python3-xdg python3-xkit rtkit samba-libs\n",
            "  screen-resolution-extra shared-mime-info sound-theme-freedesktop sudo\n",
            "  system-config-printer system-config-printer-common\n",
            "  system-config-printer-udev systemd systemd-sysv tcpd ubuntu-mono\n",
            "  ubuntu-system-service ubuntu-touch-sounds udev udisks2 unity-control-center\n",
            "  unity-greeter unity-settings-daemon upower usb-modeswitch\n",
            "  usb-modeswitch-data usbmuxd vdpau-driver-all wamerican whoopsie-preferences\n",
            "  wireless-regdb wpasupplicant x11-utils x11-xkb-utils x11proto-damage-dev\n",
            "  x11proto-dri2-dev x11proto-fixes-dev x11proto-gl-dev x11proto-xext-dev\n",
            "  x11proto-xf86vidmode-dev xauth xfonts-base xfonts-encodings xfonts-utils\n",
            "  xkb-data xserver-common xserver-xorg xserver-xorg-core\n",
            "  xserver-xorg-input-all xserver-xorg-input-libinput xserver-xorg-input-wacom\n",
            "  xserver-xorg-legacy xserver-xorg-video-all xserver-xorg-video-amdgpu\n",
            "  xserver-xorg-video-ati xserver-xorg-video-fbdev xserver-xorg-video-intel\n",
            "  xserver-xorg-video-nouveau xserver-xorg-video-qxl xserver-xorg-video-radeon\n",
            "  xserver-xorg-video-vesa xserver-xorg-video-vmware yelp yelp-xsl\n",
            "  zeitgeist-core zenity zenity-common\n",
            "Suggested packages:\n",
            "  gnome-control-center aspell-doc spellutils avahi-autoipd bumblebee whois\n",
            "  vacation gnustep gnustep-devel clang-3.8-doc default-java-plugin\n",
            "  python3-apport menu cdtool setcd evolution groff samba-common hunspell\n",
            "  openoffice.org-hunspell | openoffice.org-core ibus-clutter ibus-doc ibus-qt4\n",
            "  libqt5gui5 apport unity-greeter-session-broadcast iproute2-doc resolvconf\n",
            "  isc-dhcp-client-ddns isoquery lrzip alsa-utils libcanberra-gtk0 colord\n",
            "  cups-common libdv-bin oss-compat libenchant-voikko fcitx libgd-tools\n",
            "  geoip-bin gphoto2 gpm libvisual-0.4-plugins gstreamer1.0-tools\n",
            "  libusbmuxd-tools jackd2 liblcms2-utils avahi-autoipd | zeroconf opus-tools\n",
            "  libparted-dev libparted-i18n pcscd libraw1394-doc librsvg2-bin lm-sensors\n",
            "  speex url-dispatcher libvdpau-doc libwebkit2gtk-4.0-37-gtk2 xapian-tools\n",
            "  libxext-doc bindfs llvm-3.8-doc lsb less www-browser nautilus\n",
            "  network-manager-openconnect-gnome network-manager-openvpn-gnome\n",
            "  network-manager-vpnc-gnome network-manager-pptp-gnome libcupti-dev\n",
            "  nvidia-driver opencl-clhpp-headers-doc icedtea-8-plugin fonts-ipafont-gothic\n",
            "  fonts-ipafont-mincho fonts-wqy-microhei fonts-wqy-zenhei fonts-indic\n",
            "  appstream parted-doc pinentry-doc desktop-base plymouth-themes pavumeter\n",
            "  pavucontrol paman paprefs ubuntu-sounds python3-apt-dbg python-apt-doc\n",
            "  python-dbus-doc python3-dbus-dbg python3-setuptools python3-cryptography\n",
            "  python3-openssl python3-socks gnome-software python3-smbc systemd-container\n",
            "  btrfs-progs | btrfs-tools cryptsetup-bin exfat-utils mdadm reiserfsprogs\n",
            "  xfsprogs gnome-user-guide | ubuntu-docs libcanberra-gtk-module\n",
            "  x11-xserver-utils lightdm-remote-session-freerdp\n",
            "  lightdm-remote-session-uccsconfigure remote-login-service metacity\n",
            "  | x-window-manager comgt wvdial libvdpau-va-gl1 nvidia-vdpau-driver\n",
            "  nvidia-legacy-340xx-vdpau-driver wpagui libengine-pkcs11-openssl mesa-utils\n",
            "  xfonts-100dpi | xfonts-75dpi xfonts-scalable xinput firmware-amd-graphics\n",
            "  xserver-xorg-video-r128 xserver-xorg-video-mach64 firmware-misc-nonfree\n",
            "  zeitgeist-datahub\n",
            "Recommended packages:\n",
            "  libnvcuvid1 systemd-services\n",
            "The following NEW packages will be installed:\n",
            "  accountsservice acpid activity-log-manager adwaita-icon-theme apg aspell\n",
            "  aspell-en at-spi2-core avahi-daemon avahi-utils bbswitch-dkms bind9-host\n",
            "  binfmt-support bluez bluez-obexd bsdmainutils ca-certificates-java\n",
            "  cheese-common clang-3.8 cracklib-runtime crda cups-pk-helper dbus\n",
            "  dbus-user-session dbus-x11 dconf-cli dconf-gsettings-backend dconf-service\n",
            "  default-jre default-jre-headless desktop-file-utils dictionaries-common\n",
            "  distro-info-data dkms dmsetup dns-root-data dnsmasq-base dosfstools eject\n",
            "  emacsen-common enchant evolution-data-server evolution-data-server-common\n",
            "  fakeroot file fontconfig fonts-dejavu-extra fuse gcr gdisk geoclue\n",
            "  geoclue-ubuntu-geoip geoip-database gettext-base gir1.2-atk-1.0\n",
            "  gir1.2-freedesktop gir1.2-gdkpixbuf-2.0 gir1.2-glib-2.0 gir1.2-gtk-3.0\n",
            "  gir1.2-ibus-1.0 gir1.2-notify-0.7 gir1.2-packagekitglib-1.0 gir1.2-pango-1.0\n",
            "  gir1.2-polkit-1.0 gir1.2-secret-1 gkbd-capplet glib-networking\n",
            "  glib-networking-common glib-networking-services gnome-bluetooth\n",
            "  gnome-control-center-faces gnome-desktop3-data gnome-keyring gnome-menus\n",
            "  gnome-power-manager gnome-screensaver gnome-session-bin\n",
            "  gnome-settings-daemon-schemas groff-base gsettings-desktop-schemas\n",
            "  gsettings-ubuntu-schemas gstreamer1.0-clutter-3.0 gstreamer1.0-plugins-base\n",
            "  gstreamer1.0-plugins-good gstreamer1.0-x gtk-update-icon-cache gvfs\n",
            "  gvfs-backends gvfs-common gvfs-daemons gvfs-libs hicolor-icon-theme\n",
            "  humanity-icon-theme hunspell-en-us ibus ibus-gtk ibus-gtk3 im-config\n",
            "  indicator-applet indicator-application indicator-bluetooth indicator-common\n",
            "  indicator-datetime indicator-keyboard indicator-messages indicator-power\n",
            "  indicator-session indicator-sound ippusbxd iproute2 iptables iputils-arping\n",
            "  isc-dhcp-client isc-dhcp-common iso-codes iw java-common\n",
            "  keyboard-configuration kmod lib32gcc1 libaa1 libaccounts-glib0\n",
            "  libaccountsservice0 libapparmor1 libappindicator3-1 libappstream4\n",
            "  libarchive13 libasound2 libasound2-data libasound2-plugins libaspell15\n",
            "  libasyncns0 libatasmart4 libatk-bridge2.0-0 libatk-wrapper-java\n",
            "  libatk-wrapper-java-jni libatk1.0-0 libatk1.0-data libatm1 libatspi2.0-0\n",
            "  libavahi-client3 libavahi-common-data libavahi-common3 libavahi-core7\n",
            "  libavahi-glib1 libavc1394-0 libbind9-140 libbluetooth3\n",
            "  libboost-filesystem1.62.0 libboost-system1.62.0 libboost-thread1.62.0\n",
            "  libc6-i386 libcaca0 libcairo-gobject2 libcairo2 libcamel-1.2-60\n",
            "  libcanberra-gtk3-0 libcanberra-gtk3-module libcanberra-pulse libcanberra0\n",
            "  libcap2 libcap2-bin libcapnp-0.5.3 libcdio-cdda1 libcdio-paranoia1 libcdio13\n",
            "  libcdparanoia0 libcheese-gtk25 libcheese8 libclang-common-3.8-dev\n",
            "  libclang1-3.8 libclutter-1.0-0 libclutter-1.0-common libclutter-gst-3.0-0\n",
            "  libclutter-gtk-1.0-0 libcogl-common libcogl-pango20 libcogl-path20 libcogl20\n",
            "  libcolord2 libcrack2 libcroco3 libcryptsetup4 libcuda1-384 libcuinj64-8.0\n",
            "  libcups2 libcusparse8.0 libdaemon0 libdatrie1 libdbus-1-3 libdbus-glib-1-2\n",
            "  libdbusmenu-glib4 libdbusmenu-gtk3-4 libdconf1 libdee-1.0-4\n",
            "  libdevmapper1.02.1 libdns-export162 libdns162 libdrm-amdgpu1 libdrm-common\n",
            "  libdrm-dev libdrm-intel1 libdrm-nouveau2 libdrm-radeon1 libdrm2 libdv4\n",
            "  libebackend-1.2-10 libebook-1.2-19 libebook-contacts-1.2-2 libecal-1.2-19\n",
            "  libedata-book-1.2-25 libedata-cal-1.2-28 libedataserver-1.2-22 libegl1-mesa\n",
            "  libelf1 libenchant1c2a libepoxy0 libevdev2 libexif12 libfakeroot\n",
            "  libfcitx-config4 libfcitx-gclient0 libfcitx-utils0 libffi-dev libflac8\n",
            "  libfontenc1 libfribidi0 libfuse2 libgail-common libgail18 libgbm1 libgc1c2\n",
            "  libgck-1-0 libgcr-3-common libgcr-base-3-1 libgcr-ui-3-1 libgd3\n",
            "  libgdata-common libgdata22 libgdk-pixbuf2.0-0 libgdk-pixbuf2.0-bin\n",
            "  libgdk-pixbuf2.0-common libgee-0.8-2 libgeoclue0 libgeocode-glib0 libgeoip1\n",
            "  libgeonames-common libgeonames0 libgif7 libgirepository-1.0-1\n",
            "  libgl1-mesa-dev libgl1-mesa-dri libgl1-mesa-glx libglapi-mesa libgles2-mesa\n",
            "  libglib2.0-bin libglib2.0-data libgnome-bluetooth13 libgnome-desktop-3-12\n",
            "  libgnome-menu-3-0 libgnomekbd-common libgnomekbd8 libgoa-1.0-0b\n",
            "  libgoa-1.0-common libgphoto2-6 libgphoto2-l10n libgphoto2-port12 libgpm2\n",
            "  libgraphite2-3 libgstreamer-plugins-base1.0-0 libgstreamer-plugins-good1.0-0\n",
            "  libgstreamer1.0-0 libgtk-3-0 libgtk-3-bin libgtk-3-common libgtk2.0-0\n",
            "  libgtk2.0-bin libgtk2.0-common libgtop-2.0-11 libgtop2-common libgudev-1.0-0\n",
            "  libgweather-3-6 libgweather-common libharfbuzz-icu0 libharfbuzz0b\n",
            "  libhunspell-1.6-0 libhyphen0 libibus-1.0-5 libical2 libido3-0.1-0\n",
            "  libiec61883-0 libimobiledevice6 libindicator3-7 libinput-bin libinput10\n",
            "  libip4tc0 libip6tc0 libiptc0 libisc-export160 libisc160 libisccc140\n",
            "  libisccfg140 libjack-jackd2-0 libjansson4 libjavascriptcoregtk-4.0-18\n",
            "  libjbig0 libjson-c3 libjson-glib-1.0-0 libjson-glib-1.0-common libjsoncpp1\n",
            "  libkmod2 liblcms2-2 libldb1 liblightdm-gobject-1-0 libllvm3.8 libllvm5.0\n",
            "  liblocale-gettext-perl libltdl7 liblwres141 liblzo2-2 libmagic-mgc libmagic1\n",
            "  libmbim-glib4 libmbim-proxy libmessaging-menu0 libmirclient9 libmircommon7\n",
            "  libmircore1 libmirprotobuf3 libmm-glib0 libmnl0 libmtdev1 libmtp-common\n",
            "  libmtp-runtime libmtp9 libndp0 libnetfilter-conntrack3 libnewt0.52\n",
            "  libnfnetlink0 libnl-3-200 libnl-genl-3-200 libnm-glib4 libnm-gtk0\n",
            "  libnm-util2 libnm0 libnma0 libnotify4 libnppc8.0 libnppi8.0 libnppial8.0\n",
            "  libnppicc8.0 libnppicom8.0 libnppidei8.0 libnppif8.0 libnppig8.0 libnppim8.0\n",
            "  libnppist8.0 libnppisu8.0 libnppitc8.0 libnpps8.0 libnspr4 libnss-mdns\n",
            "  libnss3 libntfs-3g872 libnvblas8.0 libnvgraph8.0 libnvrtc8.0 libnvtoolsext1\n",
            "  libnvvm3 liboauth0 libobjc-7-dev libobjc4 libogg0 libopus0 liborc-0.4-0\n",
            "  libp11-kit-gnome-keyring libpackagekit-glib2-18 libpam-cap\n",
            "  libpam-gnome-keyring libpam-systemd libpanel-applet3 libpango-1.0-0\n",
            "  libpangocairo-1.0-0 libpangoft2-1.0-0 libpangoxft-1.0-0 libparted2\n",
            "  libpcap0.8 libpci3 libpciaccess0 libpcsclite1 libphonenumber7 libpipeline1\n",
            "  libpixman-1-0 libplist3 libplymouth4 libpolkit-agent-1-0\n",
            "  libpolkit-backend-1-0 libpolkit-gobject-1-0 libprotobuf-lite10 libprotobuf10\n",
            "  libproxy1v5 libpulse-mainloop-glib0 libpulse0 libpulsedsp\n",
            "  libpwquality-common libpwquality1 libqmi-glib5 libqmi-proxy libraw1394-11\n",
            "  librest-0.7-0 librsvg2-2 librsvg2-common libsamplerate0 libseccomp2\n",
            "  libsecret-1-0 libsecret-common libsensors4 libshout3 libslang2 libsmbclient\n",
            "  libsndfile1 libsoup-gnome2.4-1 libsoup2.4-1 libspeex1 libspeexdsp1\n",
            "  libstemmer0d libtag1v5 libtag1v5-vanilla libtalloc2 libtdb1 libtevent0\n",
            "  libtext-iconv-perl libthai-data libthai0 libtheora0 libthrust-dev libtiff5\n",
            "  libtimezonemap-data libtimezonemap1 libtinfo-dev libtxc-dxtn-s2tc\n",
            "  libudisks2-0 libunity-control-center1 libunity-settings-daemon1\n",
            "  libupower-glib3 liburl-dispatcher1 libusb-1.0-0 libusbmuxd4 libv4l-0\n",
            "  libv4lconvert0 libvdpau-dev libvdpau1 libvisual-0.4-0 libvorbis0a\n",
            "  libvorbisenc2 libvorbisfile3 libvpx4 libwacom-bin libwacom-common libwacom2\n",
            "  libwavpack1 libwayland-client0 libwayland-cursor0 libwayland-egl1-mesa\n",
            "  libwayland-server0 libwbclient0 libwebkit2gtk-4.0-37 libwebp6 libwebpdemux2\n",
            "  libwebrtc-audio-processing1 libwhoopsie-preferences0 libwhoopsie0 libwrap0\n",
            "  libx11-xcb-dev libx11-xcb1 libxapian30 libxatracker2 libxaw7 libxcb-dri2-0\n",
            "  libxcb-dri2-0-dev libxcb-dri3-0 libxcb-dri3-dev libxcb-glx0 libxcb-glx0-dev\n",
            "  libxcb-present-dev libxcb-present0 libxcb-randr0 libxcb-randr0-dev\n",
            "  libxcb-render0 libxcb-render0-dev libxcb-shape0 libxcb-shape0-dev\n",
            "  libxcb-shm0 libxcb-sync-dev libxcb-sync1 libxcb-util1 libxcb-xfixes0\n",
            "  libxcb-xfixes0-dev libxcomposite1 libxcursor1 libxdamage-dev libxdamage1\n",
            "  libxext-dev libxfixes-dev libxfixes3 libxfont1 libxfont2 libxi6 libxinerama1\n",
            "  libxkbcommon0 libxkbfile1 libxklavier16 libxmu6 libxmuu1 libxnvctrl0 libxpm4\n",
            "  libxrandr2 libxshmfence-dev libxshmfence1 libxslt1.1 libxt6 libxtables12\n",
            "  libxtst6 libxv1 libxvmc1 libxxf86dga1 libxxf86vm-dev libxxf86vm1 libyaml-0-2\n",
            "  libyelp0 libzeitgeist-2.0-0 lightdm linux-headers-4.13.0-41\n",
            "  linux-headers-4.13.0-41-generic linux-headers-generic llvm-3.8 llvm-3.8-dev\n",
            "  llvm-3.8-runtime lsb-release man-db mesa-common-dev mesa-vdpau-drivers\n",
            "  mobile-broadband-provider-info modemmanager mousetweaks nautilus-data\n",
            "  network-manager network-manager-gnome network-manager-pptp\n",
            "  notification-daemon ntfs-3g nvidia-384 nvidia-cuda-dev nvidia-cuda-doc\n",
            "  nvidia-cuda-gdb nvidia-cuda-toolkit nvidia-opencl-dev nvidia-opencl-icd-384\n",
            "  nvidia-prime nvidia-profiler nvidia-settings nvidia-visual-profiler\n",
            "  ocl-icd-libopencl1 opencl-c-headers opencl-clhpp-headers opencl-headers\n",
            "  openjdk-8-jre openjdk-8-jre-headless p11-kit p11-kit-modules packagekit\n",
            "  packagekit-tools parted pciutils pinentry-gnome3 plymouth\n",
            "  plymouth-theme-ubuntu-text policykit-1 policykit-1-gnome ppp pptp-linux\n",
            "  psmisc pulseaudio pulseaudio-utils python-apt-common python-talloc\n",
            "  python3-apt python3-cairo python3-certifi python3-chardet python3-cups\n",
            "  python3-cupshelpers python3-dbus python3-gi python3-idna\n",
            "  python3-pkg-resources python3-requests python3-six python3-urllib3\n",
            "  python3-xdg python3-xkit rtkit samba-libs screen-resolution-extra\n",
            "  shared-mime-info sound-theme-freedesktop sudo system-config-printer\n",
            "  system-config-printer-common system-config-printer-udev systemd systemd-sysv\n",
            "  tcpd ubuntu-mono ubuntu-system-service ubuntu-touch-sounds udev udisks2\n",
            "  unity-control-center unity-greeter unity-settings-daemon upower\n",
            "  usb-modeswitch usb-modeswitch-data usbmuxd vdpau-driver-all wamerican\n",
            "  whoopsie-preferences wireless-regdb wpasupplicant x11-utils x11-xkb-utils\n",
            "  x11proto-damage-dev x11proto-dri2-dev x11proto-fixes-dev x11proto-gl-dev\n",
            "  x11proto-xext-dev x11proto-xf86vidmode-dev xauth xfonts-base\n",
            "  xfonts-encodings xfonts-utils xkb-data xserver-common xserver-xorg\n",
            "  xserver-xorg-core xserver-xorg-input-all xserver-xorg-input-libinput\n",
            "  xserver-xorg-input-wacom xserver-xorg-legacy xserver-xorg-video-all\n",
            "  xserver-xorg-video-amdgpu xserver-xorg-video-ati xserver-xorg-video-fbdev\n",
            "  xserver-xorg-video-intel xserver-xorg-video-nouveau xserver-xorg-video-qxl\n",
            "  xserver-xorg-video-radeon xserver-xorg-video-vesa xserver-xorg-video-vmware\n",
            "  yelp yelp-xsl zeitgeist-core zenity zenity-common\n",
            "0 upgraded, 665 newly installed, 0 to remove and 0 not upgraded.\n",
            "Need to get 931 MB of archives.\n",
            "After this operation, 2,865 MB of additional disk space will be used.\n",
            "Get:1 http://archive.ubuntu.com/ubuntu artful/main amd64 liblocale-gettext-perl amd64 1.07-3build2 [16.6 kB]\n",
            "0% [1 liblocale-gettext-perl 14.2 kB/16.6 kB 86%]"
          ],
          "name": "stdout"
        },
        {
          "output_type": "stream",
          "text": [
            "Get:2 http://archive.ubuntu.com/ubuntu artful/main amd64 keyboard-configuration all 1.166ubuntu7 [622 kB]\n",
            "Get:3 http://archive.ubuntu.com/ubuntu artful-updates/main amd64 libapparmor1 amd64 2.11.0-2ubuntu17.1 [28.9 kB]\n",
            "Get:4 http://archive.ubuntu.com/ubuntu artful/main amd64 libcap2 amd64 1:2.25-1.1 [13.2 kB]\n",
            "Get:5 http://archive.ubuntu.com/ubuntu artful/main amd64 libdevmapper1.02.1 amd64 2:1.02.137-2ubuntu3 [135 kB]\n",
            "Get:6 http://archive.ubuntu.com/ubuntu artful/main amd64 libcryptsetup4 amd64 2:1.7.3-4ubuntu1 [77.3 kB]\n",
            "Get:7 http://archive.ubuntu.com/ubuntu artful/main amd64 libip4tc0 amd64 1.6.1-2ubuntu1 [19.6 kB]\n",
            "Get:8 http://archive.ubuntu.com/ubuntu artful/main amd64 libkmod2 amd64 24-1ubuntu2 [40.1 kB]\n",
            "Get:9 http://archive.ubuntu.com/ubuntu artful/main amd64 libseccomp2 amd64 2.3.1-2.1ubuntu3 [37.3 kB]\n",
            "Err:10 http://archive.ubuntu.com/ubuntu artful-updates/main amd64 systemd amd64 234-2ubuntu12.3\n",
            "  404  Not Found [IP: 91.189.88.161 80]\n",
            "Err:11 http://archive.ubuntu.com/ubuntu artful-updates/main amd64 systemd-sysv amd64 234-2ubuntu12.3\n",
            "  404  Not Found [IP: 91.189.88.161 80]\n",
            "Err:12 http://archive.ubuntu.com/ubuntu artful-updates/main amd64 udev amd64 234-2ubuntu12.3\n",
            "  404  Not Found [IP: 91.189.88.161 80]\n",
            "Get:13 http://archive.ubuntu.com/ubuntu artful/main amd64 libnfnetlink0 amd64 1.0.1-3 [13.3 kB]\n",
            "Get:14 http://archive.ubuntu.com/ubuntu artful/main amd64 groff-base amd64 1.22.3-9 [1,144 kB]\n",
            "Get:15 http://archive.ubuntu.com/ubuntu artful/main amd64 bsdmainutils amd64 9.0.12+nmu1ubuntu1 [179 kB]\n",
            "Get:16 http://archive.ubuntu.com/ubuntu artful/main amd64 libpipeline1 amd64 1.4.2-1 [25.2 kB]\n",
            "Get:17 http://archive.ubuntu.com/ubuntu artful/main amd64 man-db amd64 2.7.6.1-2 [895 kB]\n",
            "Get:18 http://archive.ubuntu.com/ubuntu artful/main amd64 libfuse2 amd64 2.9.7-1ubuntu1 [80.9 kB]\n",
            "Get:19 http://archive.ubuntu.com/ubuntu artful/main amd64 fuse amd64 2.9.7-1ubuntu1 [24.5 kB]\n",
            "Get:20 http://archive.ubuntu.com/ubuntu artful/main amd64 libntfs-3g872 amd64 1:2016.2.22AR.2-2 [145 kB]\n",
            "Get:21 http://archive.ubuntu.com/ubuntu artful/main amd64 ntfs-3g amd64 1:2016.2.22AR.2-2 [380 kB]\n",
            "Get:22 http://archive.ubuntu.com/ubuntu artful/main amd64 fontconfig amd64 2.11.94-0ubuntu2 [177 kB]\n",
            "Get:23 http://archive.ubuntu.com/ubuntu artful/main amd64 libdbusmenu-glib4 amd64 16.04.1+17.04.20170109.1-0ubuntu1 [40.8 kB]\n",
            "Get:24 http://archive.ubuntu.com/ubuntu artful/main amd64 libatk1.0-data all 2.26.0-2ubuntu1 [2,820 B]\n",
            "Get:25 http://archive.ubuntu.com/ubuntu artful/main amd64 libatk1.0-0 amd64 2.26.0-2ubuntu1 [44.2 kB]\n",
            "Get:26 http://archive.ubuntu.com/ubuntu artful/main amd64 libjbig0 amd64 2.1-3.1 [26.6 kB]\n",
            "Get:27 http://archive.ubuntu.com/ubuntu artful-updates/main amd64 libtiff5 amd64 4.0.8-5ubuntu0.1 [150 kB]\n",
            "Get:28 http://archive.ubuntu.com/ubuntu artful/main amd64 shared-mime-info amd64 1.8-1 [420 kB]\n",
            "Get:29 http://archive.ubuntu.com/ubuntu artful-updates/main amd64 libgdk-pixbuf2.0-common all 2.36.11-1ubuntu0.1 [4,488 B]\n",
            "Get:30 http://archive.ubuntu.com/ubuntu artful-updates/main amd64 libgdk-pixbuf2.0-0 amd64 2.36.11-1ubuntu0.1 [165 kB]\n",
            "Get:31 http://archive.ubuntu.com/ubuntu artful/main amd64 libthai-data all 0.1.26-3 [132 kB]\n",
            "Get:32 http://archive.ubuntu.com/ubuntu artful/main amd64 libdatrie1 amd64 0.2.10-5 [17.6 kB]\n",
            "Get:33 http://archive.ubuntu.com/ubuntu artful/main amd64 libthai0 amd64 0.1.26-3 [17.7 kB]\n",
            "Get:34 http://archive.ubuntu.com/ubuntu artful/main amd64 libpango-1.0-0 amd64 1.40.12-1 [152 kB]\n",
            "Get:35 http://archive.ubuntu.com/ubuntu artful/main amd64 libdbusmenu-gtk3-4 amd64 16.04.1+17.04.20170109.1-0ubuntu1 [26.7 kB]\n",
            "Get:36 http://archive.ubuntu.com/ubuntu artful/main amd64 libdconf1 amd64 0.26.0-2 [33.0 kB]\n",
            "Get:37 http://archive.ubuntu.com/ubuntu artful/main amd64 dconf-service amd64 0.26.0-2 [27.2 kB]\n",
            "Get:38 http://archive.ubuntu.com/ubuntu artful/main amd64 dconf-gsettings-backend amd64 0.26.0-2 [20.0 kB]\n",
            "Get:39 http://archive.ubuntu.com/ubuntu artful-updates/main amd64 libgtk-3-common all 3.22.25-0ubuntu0.1 [226 kB]\n",
            "Get:40 http://archive.ubuntu.com/ubuntu artful/main amd64 libdbus-1-3 amd64 1.10.22-1ubuntu1 [165 kB]\n",
            "Get:41 http://archive.ubuntu.com/ubuntu artful/main amd64 libatspi2.0-0 amd64 2.26.0-2 [60.1 kB]\n",
            "Get:42 http://archive.ubuntu.com/ubuntu artful/main amd64 libatk-bridge2.0-0 amd64 2.26.0-1ubuntu1 [54.2 kB]\n",
            "Get:43 http://archive.ubuntu.com/ubuntu artful/main amd64 libpixman-1-0 amd64 0.34.0-1 [230 kB]\n",
            "Get:44 http://archive.ubuntu.com/ubuntu artful/main amd64 libxcb-render0 amd64 1.12-1ubuntu1 [14.8 kB]\n",
            "Get:45 http://archive.ubuntu.com/ubuntu artful/main amd64 libxcb-shm0 amd64 1.12-1ubuntu1 [5,482 B]\n",
            "Get:46 http://archive.ubuntu.com/ubuntu artful/main amd64 libcairo2 amd64 1.14.10-1ubuntu1 [558 kB]\n",
            "Get:47 http://archive.ubuntu.com/ubuntu artful/main amd64 libcairo-gobject2 amd64 1.14.10-1ubuntu1 [17.1 kB]\n",
            "Get:48 http://archive.ubuntu.com/ubuntu artful/main amd64 liblcms2-2 amd64 2.7-1ubuntu1 [137 kB]\n",
            "Get:49 http://archive.ubuntu.com/ubuntu artful/main amd64 libcolord2 amd64 1.3.3-2build1 [107 kB]\n",
            "Get:50 http://archive.ubuntu.com/ubuntu artful-updates/main amd64 libavahi-common-data amd64 0.6.32-1ubuntu1.1 [22.0 kB]\n",
            "Get:51 http://archive.ubuntu.com/ubuntu artful-updates/main amd64 libavahi-common3 amd64 0.6.32-1ubuntu1.1 [21.6 kB]\n",
            "Get:52 http://archive.ubuntu.com/ubuntu artful-updates/main amd64 libavahi-client3 amd64 0.6.32-1ubuntu1.1 [25.2 kB]\n",
            "Get:53 http://archive.ubuntu.com/ubuntu artful-updates/main amd64 libcups2 amd64 2.2.4-7ubuntu3 [209 kB]\n",
            "Get:54 http://archive.ubuntu.com/ubuntu artful/main amd64 libepoxy0 amd64 1.3.1-3 [176 kB]\n",
            "Get:55 http://archive.ubuntu.com/ubuntu artful/main amd64 libjson-glib-1.0-common all 1.2.8-1 [3,648 B]\n",
            "Get:56 http://archive.ubuntu.com/ubuntu artful/main amd64 libjson-glib-1.0-0 amd64 1.2.8-1 [60.4 kB]\n",
            "Get:57 http://archive.ubuntu.com/ubuntu artful/main amd64 libboost-system1.62.0 amd64 1.62.0+dfsg-4build3 [9,212 B]\n",
            "Get:58 http://archive.ubuntu.com/ubuntu artful/main amd64 libcapnp-0.5.3 amd64 0.5.3-2ubuntu2 [569 kB]\n",
            "Get:59 http://archive.ubuntu.com/ubuntu artful/main amd64 libboost-filesystem1.62.0 amd64 1.62.0+dfsg-4build3 [38.6 kB]\n",
            "Get:60 http://archive.ubuntu.com/ubuntu artful/main amd64 libmircore1 amd64 0.28.0+17.10.20171011.1-0ubuntu1 [31.5 kB]\n",
            "Get:61 http://archive.ubuntu.com/ubuntu artful/main amd64 libmircommon7 amd64 0.28.0+17.10.20171011.1-0ubuntu1 [73.2 kB]\n",
            "Get:62 http://archive.ubuntu.com/ubuntu artful/main amd64 libprotobuf-lite10 amd64 3.0.0-9ubuntu5 [97.1 kB]\n",
            "Get:63 http://archive.ubuntu.com/ubuntu artful/main amd64 libmirprotobuf3 amd64 0.28.0+17.10.20171011.1-0ubuntu1 [131 kB]\n",
            "Get:64 http://archive.ubuntu.com/ubuntu artful/main amd64 xkb-data all 2.19-1.1ubuntu1 [312 kB]\n",
            "Get:65 http://archive.ubuntu.com/ubuntu artful/main amd64 libxkbcommon0 amd64 0.7.1-2 [97.2 kB]\n",
            "Get:66 http://archive.ubuntu.com/ubuntu artful/main amd64 libmirclient9 amd64 0.28.0+17.10.20171011.1-0ubuntu1 [199 kB]\n",
            "Get:67 http://archive.ubuntu.com/ubuntu artful/main amd64 libgraphite2-3 amd64 1.3.10-2 [78.3 kB]\n",
            "Get:68 http://archive.ubuntu.com/ubuntu artful/main amd64 libharfbuzz0b amd64 1.4.2-1 [211 kB]\n",
            "Get:69 http://archive.ubuntu.com/ubuntu artful/main amd64 libpangoft2-1.0-0 amd64 1.40.12-1 [33.2 kB]\n",
            "Get:70 http://archive.ubuntu.com/ubuntu artful/main amd64 libpangocairo-1.0-0 amd64 1.40.12-1 [20.8 kB]\n",
            "Get:71 http://archive.ubuntu.com/ubuntu artful/main amd64 libproxy1v5 amd64 0.4.14-3 [50.8 kB]\n",
            "Get:72 http://archive.ubuntu.com/ubuntu artful/main amd64 glib-networking-common all 2.54.0-1 [2,960 B]\n",
            "Get:73 http://archive.ubuntu.com/ubuntu artful/main amd64 glib-networking-services amd64 2.54.0-1 [8,096 B]\n",
            "Get:74 http://archive.ubuntu.com/ubuntu artful/main amd64 gsettings-desktop-schemas all 3.24.1-1ubuntu1 [27.6 kB]\n",
            "Get:75 http://archive.ubuntu.com/ubuntu artful/main amd64 glib-networking amd64 2.54.0-1 [52.0 kB]\n",
            "Get:76 http://archive.ubuntu.com/ubuntu artful/main amd64 libsoup2.4-1 amd64 2.60.1-1 [289 kB]\n",
            "Get:77 http://archive.ubuntu.com/ubuntu artful/main amd64 libsoup-gnome2.4-1 amd64 2.60.1-1 [5,008 B]\n",
            "Get:78 http://archive.ubuntu.com/ubuntu artful/main amd64 librest-0.7-0 amd64 0.8.0-2 [31.8 kB]\n",
            "Get:79 http://archive.ubuntu.com/ubuntu artful-updates/main amd64 libwayland-client0 amd64 1.14.0-1ubuntu0.1 [22.5 kB]\n",
            "Get:80 http://archive.ubuntu.com/ubuntu artful-updates/main amd64 libwayland-cursor0 amd64 1.14.0-1ubuntu0.1 [9,890 B]\n",
            "Get:81 http://archive.ubuntu.com/ubuntu artful/main amd64 libdrm-common all 2.4.83-1 [4,938 B]\n",
            "Get:82 http://archive.ubuntu.com/ubuntu artful/main amd64 libdrm2 amd64 2.4.83-1 [30.6 kB]\n",
            "Get:83 http://archive.ubuntu.com/ubuntu artful-updates/main amd64 libwayland-server0 amd64 1.14.0-1ubuntu0.1 [28.5 kB]\n",
            "Get:84 http://archive.ubuntu.com/ubuntu artful-updates/main amd64 libgbm1 amd64 17.2.8-0ubuntu0~17.10.1 [24.4 kB]\n",
            "Get:85 http://archive.ubuntu.com/ubuntu artful/main amd64 libx11-xcb1 amd64 2:1.6.4-3 [9,626 B]\n",
            "Get:86 http://archive.ubuntu.com/ubuntu artful/main amd64 libxcb-dri2-0 amd64 1.12-1ubuntu1 [6,838 B]\n",
            "Get:87 http://archive.ubuntu.com/ubuntu artful/main amd64 libxcb-dri3-0 amd64 1.12-1ubuntu1 [5,156 B]\n",
            "Get:88 http://archive.ubuntu.com/ubuntu artful/main amd64 libxcb-present0 amd64 1.12-1ubuntu1 [5,436 B]\n"
          ],
          "name": "stdout"
        },
        {
          "output_type": "stream",
          "text": [
            "Get:89 http://archive.ubuntu.com/ubuntu artful/main amd64 libxcb-sync1 amd64 1.12-1ubuntu1 [8,746 B]\r\n",
            "Get:90 http://archive.ubuntu.com/ubuntu artful/main amd64 libxcb-xfixes0 amd64 1.12-1ubuntu1 [9,292 B]\n",
            "Get:91 http://archive.ubuntu.com/ubuntu artful/main amd64 libxshmfence1 amd64 1.2-1 [5,042 B]\n",
            "Get:92 http://archive.ubuntu.com/ubuntu artful/main amd64 libdrm-amdgpu1 amd64 2.4.83-1 [18.5 kB]\n",
            "Get:93 http://archive.ubuntu.com/ubuntu artful/main amd64 libpciaccess0 amd64 0.13.4-1ubuntu1 [17.9 kB]\n",
            "Get:94 http://archive.ubuntu.com/ubuntu artful/main amd64 libdrm-intel1 amd64 2.4.83-1 [59.7 kB]\n",
            "Get:95 http://archive.ubuntu.com/ubuntu artful/main amd64 libdrm-nouveau2 amd64 2.4.83-1 [16.4 kB]\n",
            "Get:96 http://archive.ubuntu.com/ubuntu artful/main amd64 libdrm-radeon1 amd64 2.4.83-1 [21.6 kB]\n",
            "Get:97 http://archive.ubuntu.com/ubuntu artful/main amd64 libelf1 amd64 0.170-0.1 [44.3 kB]\n",
            "Get:98 http://archive.ubuntu.com/ubuntu artful-updates/main amd64 libglapi-mesa amd64 17.2.8-0ubuntu0~17.10.1 [22.2 kB]\n",
            "Get:99 http://archive.ubuntu.com/ubuntu artful/main amd64 libllvm5.0 amd64 1:5.0-3 [13.7 MB]\n",
            "Get:100 http://archive.ubuntu.com/ubuntu artful/main amd64 libsensors4 amd64 1:3.4.0-4 [28.8 kB]\n",
            "Get:101 http://archive.ubuntu.com/ubuntu artful-updates/main amd64 libgl1-mesa-dri amd64 17.2.8-0ubuntu0~17.10.1 [5,707 kB]\n",
            "Get:102 http://archive.ubuntu.com/ubuntu artful-updates/main amd64 libegl1-mesa amd64 17.2.8-0ubuntu0~17.10.1 [85.3 kB]\n",
            "Get:103 http://archive.ubuntu.com/ubuntu artful-updates/main amd64 libwayland-egl1-mesa amd64 17.2.8-0ubuntu0~17.10.1 [5,778 B]\n",
            "Get:104 http://archive.ubuntu.com/ubuntu artful/main amd64 libxcomposite1 amd64 1:0.4.4-2 [6,988 B]\n",
            "Get:105 http://archive.ubuntu.com/ubuntu artful/main amd64 libxfixes3 amd64 1:5.0.3-1 [10.8 kB]\n",
            "Get:106 http://archive.ubuntu.com/ubuntu artful-updates/main amd64 libxcursor1 amd64 1:1.1.14-3ubuntu0.1 [19.8 kB]\n",
            "Get:107 http://archive.ubuntu.com/ubuntu artful/main amd64 libxdamage1 amd64 1:1.1.4-3 [6,934 B]\n",
            "Get:108 http://archive.ubuntu.com/ubuntu artful/main amd64 libxi6 amd64 2:1.7.9-1 [29.2 kB]\n",
            "Get:109 http://archive.ubuntu.com/ubuntu artful/main amd64 libxinerama1 amd64 2:1.1.3-1 [7,908 B]\n",
            "Get:110 http://archive.ubuntu.com/ubuntu artful/main amd64 libxrandr2 amd64 2:1.5.1-1 [18.1 kB]\n",
            "Get:111 http://archive.ubuntu.com/ubuntu artful/main amd64 hicolor-icon-theme all 0.17-1 [10.3 kB]\n",
            "Get:112 http://archive.ubuntu.com/ubuntu artful-updates/main amd64 gtk-update-icon-cache amd64 3.22.25-0ubuntu0.1 [27.6 kB]\n",
            "Get:113 http://archive.ubuntu.com/ubuntu artful/main amd64 libcroco3 amd64 0.6.12-1 [81.3 kB]\n",
            "Get:114 http://archive.ubuntu.com/ubuntu artful/main amd64 librsvg2-2 amd64 2.40.18-1 [95.2 kB]\n",
            "Get:115 http://archive.ubuntu.com/ubuntu artful/main amd64 librsvg2-common amd64 2.40.18-1 [5,106 B]\n",
            "Get:116 http://archive.ubuntu.com/ubuntu artful/main amd64 humanity-icon-theme all 0.6.13 [1,288 kB]\n",
            "Get:117 http://archive.ubuntu.com/ubuntu artful-updates/main amd64 ubuntu-mono all 16.10+17.10.20171115-0ubuntu1 [162 kB]\n",
            "Get:118 http://archive.ubuntu.com/ubuntu artful/main amd64 adwaita-icon-theme all 3.26.0-0ubuntu2 [3,452 kB]\n",
            "Get:119 http://archive.ubuntu.com/ubuntu artful-updates/main amd64 libgtk-3-0 amd64 3.22.25-0ubuntu0.1 [2,540 kB]\n",
            "Get:120 http://archive.ubuntu.com/ubuntu artful/main amd64 libindicator3-7 amd64 16.10.0+16.10.20160913-0ubuntu1 [26.1 kB]\n",
            "Get:121 http://archive.ubuntu.com/ubuntu artful/main amd64 libappindicator3-1 amd64 12.10.1+17.04.20170215-0ubuntu2 [19.2 kB]\n",
            "Get:122 http://archive.ubuntu.com/ubuntu artful/main amd64 libcdparanoia0 amd64 3.10.2+debian-11 [53.1 kB]\n",
            "Get:123 http://archive.ubuntu.com/ubuntu artful/main amd64 libdaemon0 amd64 0.14-6 [16.6 kB]\n",
            "Get:124 http://archive.ubuntu.com/ubuntu artful/main amd64 liblzo2-2 amd64 2.08-1.2 [48.7 kB]\n",
            "Get:125 http://archive.ubuntu.com/ubuntu artful/main amd64 libmtdev1 amd64 1.1.5-1ubuntu2 [13.8 kB]\n",
            "Get:126 http://archive.ubuntu.com/ubuntu artful/main amd64 libmtp-common all 1.1.13-1 [43.6 kB]\n",
            "Get:127 http://archive.ubuntu.com/ubuntu artful/main amd64 libusb-1.0-0 amd64 2:1.0.21-2 [43.3 kB]\n",
            "7% [Working]                                                6,226 kB/s 2min 23s"
          ],
          "name": "stdout"
        },
        {
          "output_type": "stream",
          "text": [
            "Get:128 http://archive.ubuntu.com/ubuntu artful/main amd64 libmtp9 amd64 1.1.13-1 [154 kB]\n",
            "Get:129 http://archive.ubuntu.com/ubuntu artful/main amd64 libogg0 amd64 1.3.2-1 [17.2 kB]\n",
            "Get:130 http://archive.ubuntu.com/ubuntu artful/main amd64 libspeex1 amd64 1.2~rc1.2-1ubuntu1 [51.3 kB]\n",
            "Get:131 http://archive.ubuntu.com/ubuntu artful/main amd64 libtheora0 amd64 1.1.1+dfsg.1-14 [170 kB]\n",
            "Get:132 http://archive.ubuntu.com/ubuntu artful-updates/main amd64 libvorbis0a amd64 1.3.5-4ubuntu0.2 [86.5 kB]\n",
            "Get:133 http://archive.ubuntu.com/ubuntu artful/main amd64 libshout3 amd64 2.3.1-3 [38.1 kB]\n",
            "Get:134 http://archive.ubuntu.com/ubuntu artful/main amd64 libstemmer0d amd64 0+svn585-1 [62.1 kB]\n",
            "Get:135 http://archive.ubuntu.com/ubuntu artful-updates/main amd64 libwbclient0 amd64 2:4.6.7+dfsg-1ubuntu3.2 [33.6 kB]\n",
            "Get:136 http://archive.ubuntu.com/ubuntu artful/main amd64 libxxf86dga1 amd64 2:1.1.4-1 [13.7 kB]\n",
            "Get:137 http://archive.ubuntu.com/ubuntu artful/main amd64 libxxf86vm1 amd64 1:1.1.4-1 [10.6 kB]\n",
            "Get:138 http://archive.ubuntu.com/ubuntu artful/main amd64 dbus amd64 1.10.22-1ubuntu1 [144 kB]\n",
            "Get:139 http://archive.ubuntu.com/ubuntu artful/main amd64 libglib2.0-data all 2.54.1-1ubuntu1 [4,250 B]\n",
            "Get:140 http://archive.ubuntu.com/ubuntu artful/main amd64 libglib2.0-bin amd64 2.54.1-1ubuntu1 [69.8 kB]\n",
            "Err:141 http://archive.ubuntu.com/ubuntu artful-updates/main amd64 libplymouth4 amd64 0.9.2-3ubuntu19\n",
            "  404  Not Found [IP: 91.189.88.161 80]\n",
            "Err:142 http://archive.ubuntu.com/ubuntu artful-updates/main amd64 plymouth amd64 0.9.2-3ubuntu19\n",
            "  404  Not Found [IP: 91.189.88.161 80]\n",
            "Get:143 http://archive.ubuntu.com/ubuntu artful/universe amd64 lightdm amd64 1.24.0-0ubuntu1 [146 kB]\n",
            "Get:144 http://archive.ubuntu.com/ubuntu artful/main amd64 libtalloc2 amd64 2.1.9-2ubuntu1 [35.9 kB]\n",
            "Get:145 http://archive.ubuntu.com/ubuntu artful/main amd64 libtdb1 amd64 1.3.13-2build1 [39.1 kB]\n",
            "Get:146 http://archive.ubuntu.com/ubuntu artful/main amd64 libtevent0 amd64 0.9.31-1 [28.4 kB]\n",
            "Get:147 http://archive.ubuntu.com/ubuntu artful/main amd64 libldb1 amd64 2:1.1.29-2 [110 kB]\n",
            "Get:148 http://archive.ubuntu.com/ubuntu artful/main amd64 python-talloc amd64 2.1.9-2ubuntu1 [9,050 B]\n",
            "Get:149 http://archive.ubuntu.com/ubuntu artful-updates/main amd64 samba-libs amd64 2:4.6.7+dfsg-1ubuntu3.2 [5,195 kB]\n",
            "Get:150 http://archive.ubuntu.com/ubuntu artful-updates/main amd64 libsmbclient amd64 2:4.6.7+dfsg-1ubuntu3.2 [54.2 kB]\n",
            "Get:151 http://archive.ubuntu.com/ubuntu artful-updates/main amd64 distro-info-data all 0.36ubuntu0.2 [4,418 B]\n",
            "Get:152 http://archive.ubuntu.com/ubuntu artful/main amd64 dmsetup amd64 2:1.02.137-2ubuntu3 [71.9 kB]\n",
            "Get:153 http://archive.ubuntu.com/ubuntu artful/main amd64 eject amd64 2.1.5+deb1+cvs20081104-13.2 [22.8 kB]\n",
            "Get:154 http://archive.ubuntu.com/ubuntu artful/main amd64 libmagic-mgc amd64 1:5.32-1 [184 kB]\n",
            "Get:155 http://archive.ubuntu.com/ubuntu artful/main amd64 libmagic1 amd64 1:5.32-1 [68.4 kB]\n",
            "Get:156 http://archive.ubuntu.com/ubuntu artful/main amd64 file amd64 1:5.32-1 [22.0 kB]\n",
            "Get:157 http://archive.ubuntu.com/ubuntu artful/main amd64 libmnl0 amd64 1.0.4-2 [12.3 kB]\n",
            "Get:158 http://archive.ubuntu.com/ubuntu artful-updates/main amd64 iproute2 amd64 4.9.0-1ubuntu2.1 [628 kB]\n",
            "Get:159 http://archive.ubuntu.com/ubuntu artful-updates/main amd64 libisc-export160 amd64 1:9.10.3.dfsg.P4-12.6ubuntu1.1 [155 kB]\n",
            "Get:160 http://archive.ubuntu.com/ubuntu artful-updates/main amd64 libdns-export162 amd64 1:9.10.3.dfsg.P4-12.6ubuntu1.1 [671 kB]\n",
            "Get:161 http://archive.ubuntu.com/ubuntu artful-updates/main amd64 isc-dhcp-client amd64 4.3.5-3ubuntu2.3 [244 kB]\n",
            "Get:162 http://archive.ubuntu.com/ubuntu artful-updates/main amd64 isc-dhcp-common amd64 4.3.5-3ubuntu2.3 [45.8 kB]\n",
            "Get:163 http://archive.ubuntu.com/ubuntu artful/main amd64 kmod amd64 24-1ubuntu2 [88.7 kB]\n",
            "Get:164 http://archive.ubuntu.com/ubuntu artful/main amd64 libatm1 amd64 1:2.5.1-2 [21.7 kB]\n",
            "Get:165 http://archive.ubuntu.com/ubuntu artful/main amd64 libcap2-bin amd64 1:2.25-1.1 [20.5 kB]\n",
            "Get:166 http://archive.ubuntu.com/ubuntu artful/main amd64 libfribidi0 amd64 0.19.7-1 [25.1 kB]\n",
            "Get:167 http://archive.ubuntu.com/ubuntu artful/main amd64 libjson-c3 amd64 0.12.1-1.2 [21.5 kB]\n",
            "9% [Waiting for headers]                                    6,226 kB/s 2min 22s"
          ],
          "name": "stdout"
        },
        {
          "output_type": "stream",
          "text": [
            "Get:168 http://archive.ubuntu.com/ubuntu artful/main amd64 libslang2 amd64 2.3.1-5ubuntu1 [422 kB]\n",
            "Get:169 http://archive.ubuntu.com/ubuntu artful/main amd64 libnewt0.52 amd64 0.52.18-3ubuntu3 [40.9 kB]\n",
            "Get:170 http://archive.ubuntu.com/ubuntu artful/main amd64 libpam-cap amd64 1:2.25-1.1 [7,190 B]\n",
            "Err:171 http://archive.ubuntu.com/ubuntu artful-updates/main amd64 libpam-systemd amd64 234-2ubuntu12.3\n",
            "  404  Not Found [IP: 91.189.88.161 80]\n",
            "Get:172 http://archive.ubuntu.com/ubuntu artful/main amd64 libtext-iconv-perl amd64 1.7-5build6 [13.0 kB]\n",
            "Get:173 http://archive.ubuntu.com/ubuntu artful/main amd64 libxtables12 amd64 1.6.1-2ubuntu1 [27.8 kB]\n",
            "Get:174 http://archive.ubuntu.com/ubuntu artful/main amd64 libyaml-0-2 amd64 0.1.7-2ubuntu3 [47.2 kB]\n",
            "Get:175 http://archive.ubuntu.com/ubuntu artful/main amd64 lsb-release all 9.20160110ubuntu5 [11.1 kB]\n",
            "Get:176 http://archive.ubuntu.com/ubuntu artful/main amd64 sudo amd64 1.8.20p2-1ubuntu1 [415 kB]\n",
            "Get:177 http://archive.ubuntu.com/ubuntu artful-updates/main amd64 libaccountsservice0 amd64 0.6.42-0ubuntu3.1 [70.2 kB]\n",
            "Get:178 http://archive.ubuntu.com/ubuntu artful/main amd64 libpolkit-gobject-1-0 amd64 0.105-18 [36.8 kB]\n",
            "Get:179 http://archive.ubuntu.com/ubuntu artful-updates/main amd64 accountsservice amd64 0.6.42-0ubuntu3.1 [59.8 kB]\n",
            "Get:180 http://archive.ubuntu.com/ubuntu artful/main amd64 libgeoip1 amd64 1.6.11-2ubuntu1 [71.7 kB]\n",
            "Get:181 http://archive.ubuntu.com/ubuntu artful-updates/main amd64 libisc160 amd64 1:9.10.3.dfsg.P4-12.6ubuntu1.1 [219 kB]\n",
            "Get:182 http://archive.ubuntu.com/ubuntu artful-updates/main amd64 libdns162 amd64 1:9.10.3.dfsg.P4-12.6ubuntu1.1 [883 kB]\n",
            "Get:183 http://archive.ubuntu.com/ubuntu artful-updates/main amd64 libisccc140 amd64 1:9.10.3.dfsg.P4-12.6ubuntu1.1 [16.6 kB]\n",
            "Get:184 http://archive.ubuntu.com/ubuntu artful-updates/main amd64 libisccfg140 amd64 1:9.10.3.dfsg.P4-12.6ubuntu1.1 [40.9 kB]\n",
            "Get:185 http://archive.ubuntu.com/ubuntu artful-updates/main amd64 libbind9-140 amd64 1:9.10.3.dfsg.P4-12.6ubuntu1.1 [23.9 kB]\n",
            "Get:186 http://archive.ubuntu.com/ubuntu artful-updates/main amd64 liblwres141 amd64 1:9.10.3.dfsg.P4-12.6ubuntu1.1 [34.5 kB]\n",
            "Get:187 http://archive.ubuntu.com/ubuntu artful-updates/main amd64 bind9-host amd64 1:9.10.3.dfsg.P4-12.6ubuntu1.1 [50.1 kB]\n",
            "Get:188 http://archive.ubuntu.com/ubuntu artful/main amd64 dosfstools amd64 4.1-1 [58.1 kB]\n",
            "Get:189 http://archive.ubuntu.com/ubuntu artful/main amd64 geoip-database all 20170912-1 [2,225 kB]\n",
            "Get:190 http://archive.ubuntu.com/ubuntu artful/main amd64 gettext-base amd64 0.19.8.1-4ubuntu1 [49.4 kB]\n",
            "Get:191 http://archive.ubuntu.com/ubuntu artful/main amd64 libgirepository-1.0-1 amd64 1.54.1-1 [82.1 kB]\n",
            "Get:192 http://archive.ubuntu.com/ubuntu artful/main amd64 gir1.2-glib-2.0 amd64 1.54.1-1 [131 kB]\n",
            "Get:193 http://archive.ubuntu.com/ubuntu artful/main amd64 libip6tc0 amd64 1.6.1-2ubuntu1 [19.9 kB]\n",
            "Get:194 http://archive.ubuntu.com/ubuntu artful/main amd64 libiptc0 amd64 1.6.1-2ubuntu1 [9,254 B]\n",
            "Get:195 http://archive.ubuntu.com/ubuntu artful/main amd64 libnetfilter-conntrack3 amd64 1.0.6-2 [37.8 kB]\n",
            "Get:196 http://archive.ubuntu.com/ubuntu artful/main amd64 iptables amd64 1.6.1-2ubuntu1 [269 kB]\n",
            "Get:197 http://archive.ubuntu.com/ubuntu artful/main amd64 iso-codes all 3.75-1 [2,339 kB]\n",
            "Get:198 http://archive.ubuntu.com/ubuntu artful/main amd64 libdbus-glib-1-2 amd64 0.108-2 [67.1 kB]\n",
            "Get:199 http://archive.ubuntu.com/ubuntu artful-updates/main amd64 libparted2 amd64 3.2-18ubuntu0.1 [123 kB]\n",
            "Get:200 http://archive.ubuntu.com/ubuntu artful/main amd64 libpcap0.8 amd64 1.8.1-5ubuntu1 [118 kB]\n",
            "Get:201 http://archive.ubuntu.com/ubuntu artful/main amd64 libpci3 amd64 1:3.5.2-1ubuntu1 [24.1 kB]\n",
            "Get:202 http://archive.ubuntu.com/ubuntu artful/main amd64 libxmuu1 amd64 2:1.1.2-2 [9,674 B]\n",
            "Get:203 http://archive.ubuntu.com/ubuntu artful-updates/main amd64 parted amd64 3.2-18ubuntu0.1 [42.3 kB]\n",
            "Get:204 http://archive.ubuntu.com/ubuntu artful/main amd64 pciutils amd64 1:3.5.2-1ubuntu1 [247 kB]\n",
            "Err:205 http://archive.ubuntu.com/ubuntu artful-updates/main amd64 plymouth-theme-ubuntu-text amd64 0.9.2-3ubuntu19\n",
            "  404  Not Found [IP: 91.189.88.161 80]\n",
            "11% [Working]                                               1,880 kB/s 7min 45s"
          ],
          "name": "stdout"
        },
        {
          "output_type": "stream",
          "text": [
            "Get:206 http://archive.ubuntu.com/ubuntu artful/main amd64 psmisc amd64 23.1-1 [51.5 kB]\n",
            "Get:207 http://archive.ubuntu.com/ubuntu artful/main amd64 python-apt-common all 1.4.0~beta3build2 [17.1 kB]\n",
            "Get:208 http://archive.ubuntu.com/ubuntu artful/main amd64 python3-apt amd64 1.4.0~beta3build2 [141 kB]\n",
            "Get:209 http://archive.ubuntu.com/ubuntu artful/main amd64 python3-dbus amd64 1.2.4-1build3 [84.1 kB]\n",
            "Get:210 http://archive.ubuntu.com/ubuntu artful/main amd64 python3-gi amd64 3.24.1-2build1 [153 kB]\n",
            "Get:211 http://archive.ubuntu.com/ubuntu artful/main amd64 xauth amd64 1:1.0.9-1ubuntu2 [22.7 kB]\n",
            "Get:212 http://archive.ubuntu.com/ubuntu artful/main amd64 acpid amd64 1:2.0.28-1ubuntu1 [36.5 kB]\n",
            "Get:213 http://archive.ubuntu.com/ubuntu artful/main amd64 libgee-0.8-2 amd64 0.20.0-1 [211 kB]\n",
            "Get:214 http://archive.ubuntu.com/ubuntu artful/universe amd64 libunity-control-center1 amd64 15.04.0+17.10.20170930-0ubuntu1 [80.6 kB]\n",
            "Get:215 http://archive.ubuntu.com/ubuntu artful/main amd64 libwhoopsie-preferences0 amd64 0.19 [13.9 kB]\n",
            "Get:216 http://archive.ubuntu.com/ubuntu artful/main amd64 libzeitgeist-2.0-0 amd64 1.0-0ubuntu4 [115 kB]\n",
            "Get:217 http://archive.ubuntu.com/ubuntu artful/main amd64 libdee-1.0-4 amd64 1.2.7+17.10.20170616-0ubuntu1 [75.7 kB]\n",
            "Get:218 http://archive.ubuntu.com/ubuntu artful/main amd64 libxapian30 amd64 1.4.4-2 [641 kB]\n",
            "Get:219 http://archive.ubuntu.com/ubuntu artful/main amd64 zeitgeist-core amd64 1.0-0ubuntu4 [134 kB]\n",
            "Get:220 http://archive.ubuntu.com/ubuntu artful/main amd64 libwhoopsie0 amd64 0.2.58 [9,502 B]\n",
            "Get:221 http://archive.ubuntu.com/ubuntu artful/main amd64 whoopsie-preferences amd64 0.19 [8,728 B]\n",
            "Get:222 http://archive.ubuntu.com/ubuntu artful/universe amd64 activity-log-manager amd64 0.9.7-0ubuntu26 [93.8 kB]\n",
            "Get:223 http://archive.ubuntu.com/ubuntu artful/main amd64 apg amd64 2.2.3.dfsg.1-4 [50.2 kB]\n",
            "Get:224 http://archive.ubuntu.com/ubuntu artful/main amd64 libaspell15 amd64 0.60.7~20110707-4 [309 kB]\n",
            "Get:225 http://archive.ubuntu.com/ubuntu artful/main amd64 emacsen-common all 2.0.8 [17.6 kB]\n",
            "Get:226 http://archive.ubuntu.com/ubuntu artful/main amd64 dictionaries-common all 1.27.2 [186 kB]\n",
            "Get:227 http://archive.ubuntu.com/ubuntu artful/main amd64 aspell amd64 0.60.7~20110707-4 [77.1 kB]\n",
            "Get:228 http://archive.ubuntu.com/ubuntu artful/main amd64 aspell-en all 2017.08.24-0-0.1 [298 kB]\n",
            "Get:229 http://archive.ubuntu.com/ubuntu artful/main amd64 libxtst6 amd64 2:1.2.3-1 [12.8 kB]\n",
            "Get:230 http://archive.ubuntu.com/ubuntu artful/main amd64 at-spi2-core amd64 2.26.0-2 [48.6 kB]\n",
            "Get:231 http://archive.ubuntu.com/ubuntu artful-updates/main amd64 libavahi-core7 amd64 0.6.32-1ubuntu1.1 [81.4 kB]\n",
            "Get:232 http://archive.ubuntu.com/ubuntu artful-updates/main amd64 avahi-daemon amd64 0.6.32-1ubuntu1.1 [60.9 kB]\n",
            "Get:233 http://archive.ubuntu.com/ubuntu artful-updates/main amd64 avahi-utils amd64 0.6.32-1ubuntu1.1 [24.8 kB]\n",
            "Get:234 http://archive.ubuntu.com/ubuntu artful/main amd64 binfmt-support amd64 2.1.8-1 [51.6 kB]\n",
            "Get:235 http://archive.ubuntu.com/ubuntu artful/main amd64 bluez amd64 5.46-0ubuntu3 [901 kB]\n",
            "Get:236 http://archive.ubuntu.com/ubuntu artful/main amd64 libical2 amd64 2.0.0-0.5 [194 kB]\n",
            "Get:237 http://archive.ubuntu.com/ubuntu artful/main amd64 bluez-obexd amd64 5.46-0ubuntu3 [167 kB]\n",
            "Get:238 http://archive.ubuntu.com/ubuntu artful/main amd64 java-common all 0.59ubuntu1 [7,232 B]\n",
            "Get:239 http://archive.ubuntu.com/ubuntu artful/main amd64 libnspr4 amd64 2:4.16-1ubuntu2 [112 kB]\n",
            "Get:240 http://archive.ubuntu.com/ubuntu artful/main amd64 libnss3 amd64 2:3.32-1ubuntu3 [1,141 kB]\n",
            "Get:241 http://archive.ubuntu.com/ubuntu artful/main amd64 libpcsclite1 amd64 1.8.22-1ubuntu1 [21.2 kB]\n",
            "Get:242 http://archive.ubuntu.com/ubuntu artful-updates/main amd64 openjdk-8-jre-headless amd64 8u171-b11-0ubuntu0.17.10.1 [27.3 MB]\n",
            "12% [242 openjdk-8-jre-headless 0 B/27.3 MB 0%]             1,715 kB/s 8min 27s"
          ],
          "name": "stdout"
        },
        {
          "output_type": "stream",
          "text": [
            "Get:243 http://archive.ubuntu.com/ubuntu artful/main amd64 default-jre-headless amd64 2:1.8-59ubuntu1 [3,680 B]\n",
            "Get:244 http://archive.ubuntu.com/ubuntu artful/main amd64 ca-certificates-java all 20170930 [12.0 kB]\n",
            "Get:245 http://archive.ubuntu.com/ubuntu artful/main amd64 cheese-common all 3.26.0-0ubuntu1 [719 kB]\n",
            "Get:246 http://archive.ubuntu.com/ubuntu artful/universe amd64 libllvm3.8 amd64 1:3.8.1-24ubuntu7 [10.5 MB]\n",
            "Get:247 http://archive.ubuntu.com/ubuntu artful/universe amd64 libclang1-3.8 amd64 1:3.8.1-24ubuntu7 [4,223 kB]\n",
            "Get:248 http://archive.ubuntu.com/ubuntu artful/main amd64 libgc1c2 amd64 1:7.4.2-8ubuntu1 [81.8 kB]\n",
            "Get:249 http://archive.ubuntu.com/ubuntu artful-updates/main amd64 libobjc4 amd64 7.2.0-8ubuntu3.2 [51.0 kB]\n",
            "Get:250 http://archive.ubuntu.com/ubuntu artful-updates/main amd64 libobjc-7-dev amd64 7.2.0-8ubuntu3.2 [209 kB]\n",
            "Get:251 http://archive.ubuntu.com/ubuntu artful/universe amd64 libclang-common-3.8-dev amd64 1:3.8.1-24ubuntu7 [2,204 kB]\n",
            "Get:252 http://archive.ubuntu.com/ubuntu artful/universe amd64 clang-3.8 amd64 1:3.8.1-24ubuntu7 [23.5 MB]\n",
            "Get:253 http://archive.ubuntu.com/ubuntu artful/main amd64 libcrack2 amd64 2.9.2-5build1 [28.0 kB]\n",
            "Get:254 http://archive.ubuntu.com/ubuntu artful/main amd64 cracklib-runtime amd64 2.9.2-5build1 [134 kB]\n",
            "Get:255 http://archive.ubuntu.com/ubuntu artful/main amd64 libnl-3-200 amd64 3.2.29-0ubuntu3 [52.8 kB]\n",
            "Get:256 http://archive.ubuntu.com/ubuntu artful/main amd64 libnl-genl-3-200 amd64 3.2.29-0ubuntu3 [11.2 kB]\n",
            "Get:257 http://archive.ubuntu.com/ubuntu artful/main amd64 wireless-regdb all 2016.06.10-0ubuntu1 [8,824 B]\n",
            "19% [Working]                                               1,715 kB/s 7min 47s"
          ],
          "name": "stdout"
        }
      ]
    },
    {
      "metadata": {
        "id": "9nHI6eqpx0W6",
        "colab_type": "code",
        "colab": {}
      },
      "cell_type": "code",
      "source": [
        ""
      ],
      "execution_count": 0,
      "outputs": []
    },
    {
      "metadata": {
        "id": "k4ASYjKRx0tJ",
        "colab_type": "code",
        "colab": {}
      },
      "cell_type": "code",
      "source": [
        ""
      ],
      "execution_count": 0,
      "outputs": []
    },
    {
      "metadata": {
        "id": "ULHsoHPmDINT",
        "colab_type": "code",
        "colab": {}
      },
      "cell_type": "code",
      "source": [
        "import numpy as np\n",
        "import pandas as pd\n",
        "from multiprocessing import cpu_count \n",
        "from joblib import Parallel, delayed"
      ],
      "execution_count": 0,
      "outputs": []
    },
    {
      "metadata": {
        "id": "InnwoZq5DNFW",
        "colab_type": "code",
        "colab": {}
      },
      "cell_type": "code",
      "source": [
        "test_input = pd.Series(range(1000000))"
      ],
      "execution_count": 0,
      "outputs": []
    },
    {
      "metadata": {
        "id": "dMNyB3Z3DnDz",
        "colab_type": "code",
        "colab": {}
      },
      "cell_type": "code",
      "source": [
        "# test function\n",
        "def test_fun(i):\n",
        "  return i*i"
      ],
      "execution_count": 0,
      "outputs": []
    },
    {
      "metadata": {
        "id": "MkgmLUCtDjXH",
        "colab_type": "code",
        "colab": {
          "base_uri": "https://localhost:8080/",
          "height": 33
        },
        "outputId": "c353c991-25ed-4b67-e23b-28f63ffabf14"
      },
      "cell_type": "code",
      "source": [
        "%%timeit\n",
        "# with for loop in the worst case\n",
        "result = []\n",
        "for i in test_input.iteritems():\n",
        "  result.append(test_fun(i[1]))\n",
        " \n",
        "result_iteration_worst = pd.Series(result)"
      ],
      "execution_count": 57,
      "outputs": [
        {
          "output_type": "stream",
          "text": [
            "1 loop, best of 3: 579 ms per loop\n"
          ],
          "name": "stdout"
        }
      ]
    },
    {
      "metadata": {
        "id": "ZitOFru1GIgC",
        "colab_type": "code",
        "colab": {
          "base_uri": "https://localhost:8080/",
          "height": 33
        },
        "outputId": "a54fd1c5-60fe-4bb8-e115-ca2347be21a3"
      },
      "cell_type": "code",
      "source": [
        "%%timeit\n",
        "# with for loop with 1 line code\n",
        "result_iteration_2nd_worst = pd.Series([test_fun(i[1]) for i in test_input.iteritems()]) "
      ],
      "execution_count": 58,
      "outputs": [
        {
          "output_type": "stream",
          "text": [
            "1 loop, best of 3: 531 ms per loop\n"
          ],
          "name": "stdout"
        }
      ]
    },
    {
      "metadata": {
        "id": "TcbtFFTVEXrj",
        "colab_type": "code",
        "colab": {
          "base_uri": "https://localhost:8080/",
          "height": 33
        },
        "outputId": "4e2b05db-109b-49bf-8821-27ec645d26cd"
      },
      "cell_type": "code",
      "source": [
        "%%timeit\n",
        "\n",
        "# With apply\n",
        "result_apply = test_input.apply(test_fun)"
      ],
      "execution_count": 59,
      "outputs": [
        {
          "output_type": "stream",
          "text": [
            "1 loop, best of 3: 444 ms per loop\n"
          ],
          "name": "stdout"
        }
      ]
    },
    {
      "metadata": {
        "id": "d-XTKKJtFJxC",
        "colab_type": "code",
        "colab": {
          "base_uri": "https://localhost:8080/",
          "height": 33
        },
        "outputId": "4da2d88c-a0fe-4bb9-8a96-9a92f5b0dec1"
      },
      "cell_type": "code",
      "source": [
        "%%timeit\n",
        "# With \n",
        "result_vect = pd.Series(np.vectorize(test_fun)(test_input))"
      ],
      "execution_count": 60,
      "outputs": [
        {
          "output_type": "stream",
          "text": [
            "1 loop, best of 3: 246 ms per loop\n"
          ],
          "name": "stdout"
        }
      ]
    },
    {
      "metadata": {
        "id": "2h4-qkuUF2qj",
        "colab_type": "code",
        "colab": {
          "base_uri": "https://localhost:8080/",
          "height": 33
        },
        "outputId": "45f03efa-8368-41f2-c6f2-85d08548ae39"
      },
      "cell_type": "code",
      "source": [
        "%%timeit\n",
        "result_joblib = pd.Series(Parallel(n_jobs=-1)( [delayed(test_fun)(i) for i in test_input] ))"
      ],
      "execution_count": 61,
      "outputs": [
        {
          "output_type": "stream",
          "text": [
            "1 loop, best of 3: 9.63 s per loop\n"
          ],
          "name": "stdout"
        }
      ]
    },
    {
      "metadata": {
        "id": "uNepDVhLljqf",
        "colab_type": "code",
        "colab": {}
      },
      "cell_type": "code",
      "source": [
        "def vec_test_func(split_input):\n",
        "  return np.vectorize(test_fun)(split_input)"
      ],
      "execution_count": 0,
      "outputs": []
    },
    {
      "metadata": {
        "id": "UUfzqyakmSEa",
        "colab_type": "code",
        "colab": {
          "base_uri": "https://localhost:8080/",
          "height": 33
        },
        "outputId": "abdd2dd1-6b68-4ef2-bbcb-81a62032563d"
      },
      "cell_type": "code",
      "source": [
        "len(np.array_split(test_input, cpu_count()))"
      ],
      "execution_count": 63,
      "outputs": [
        {
          "output_type": "execute_result",
          "data": {
            "text/plain": [
              "2"
            ]
          },
          "metadata": {
            "tags": []
          },
          "execution_count": 63
        }
      ]
    },
    {
      "metadata": {
        "id": "qLeHT35oldoJ",
        "colab_type": "code",
        "colab": {
          "base_uri": "https://localhost:8080/",
          "height": 33
        },
        "outputId": "4e6f6802-311a-4d8f-8b3c-65ad9a0c52a1"
      },
      "cell_type": "code",
      "source": [
        "%%timeit\n",
        "Parallel(n_jobs= cpu_count())( [delayed(vec_test_func)(i) for i in np.array_split(test_input, cpu_count())] )"
      ],
      "execution_count": 69,
      "outputs": [
        {
          "output_type": "stream",
          "text": [
            "1 loop, best of 3: 307 ms per loop\n"
          ],
          "name": "stdout"
        }
      ]
    }
  ]
}